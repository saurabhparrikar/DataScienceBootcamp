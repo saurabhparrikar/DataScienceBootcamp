{
 "cells": [
  {
   "cell_type": "markdown",
   "id": "b6f09e2b",
   "metadata": {},
   "source": [
    "# 1. Write a function  count_vowels(word) that takes a word as an argument and returns the number of vowels in the word"
   ]
  },
  {
   "cell_type": "code",
   "execution_count": 2,
   "id": "191f924a",
   "metadata": {},
   "outputs": [],
   "source": [
    "def count_vowels(word):\n",
    "    vowels = 0\n",
    "    for char in word:\n",
    "        if char.lower() in 'aeiou':\n",
    "            vowels = vowels+1\n",
    "        else:\n",
    "            continue\n",
    "    print(vowels)"
   ]
  },
  {
   "cell_type": "code",
   "execution_count": 3,
   "id": "2a6d277b",
   "metadata": {},
   "outputs": [
    {
     "name": "stdout",
     "output_type": "stream",
     "text": [
      "3\n"
     ]
    }
   ],
   "source": [
    "count_vowels('Saurabh')"
   ]
  },
  {
   "cell_type": "markdown",
   "id": "c1224e66",
   "metadata": {},
   "source": [
    "# 2. Iterate through the following list of animals and print each one in all caps. # \n",
    "# animals=['tiger', 'elephant', 'monkey', 'zebra', 'panther']"
   ]
  },
  {
   "cell_type": "code",
   "execution_count": 6,
   "id": "c1c168f5",
   "metadata": {},
   "outputs": [],
   "source": [
    "def print_capital(animals):\n",
    "    for animal in animals:\n",
    "        print(animal.upper())"
   ]
  },
  {
   "cell_type": "code",
   "execution_count": null,
   "id": "83427331",
   "metadata": {},
   "outputs": [],
   "source": [
    "animals = ['tiger','elephant','monkey','zebra','panther']"
   ]
  },
  {
   "cell_type": "code",
   "execution_count": 9,
   "id": "29ddcfa4",
   "metadata": {},
   "outputs": [
    {
     "name": "stdout",
     "output_type": "stream",
     "text": [
      "TIGER\n",
      "ELEPHANT\n",
      "MONKEY\n",
      "ZEBRA\n",
      "PANTHER\n"
     ]
    }
   ],
   "source": [
    "print_capital(animals)"
   ]
  },
  {
   "cell_type": "markdown",
   "id": "a3a844db",
   "metadata": {},
   "source": [
    "# 3. Write a program that iterates from 1 to 20, printing each number and whether it's odd or even."
   ]
  },
  {
   "cell_type": "code",
   "execution_count": 19,
   "id": "4b967d6b",
   "metadata": {},
   "outputs": [],
   "source": [
    "def print_number(number):\n",
    "    for i in range(1,number+1):\n",
    "        if i % 2 ==0:\n",
    "            print(f'{i} is even')\n",
    "        else:\n",
    "            print(f'{i} is odd')\n",
    "    "
   ]
  },
  {
   "cell_type": "code",
   "execution_count": 20,
   "id": "98bfebfd",
   "metadata": {},
   "outputs": [
    {
     "name": "stdout",
     "output_type": "stream",
     "text": [
      "1 is odd\n",
      "2 is even\n",
      "3 is odd\n",
      "4 is even\n",
      "5 is odd\n",
      "6 is even\n",
      "7 is odd\n",
      "8 is even\n",
      "9 is odd\n",
      "10 is even\n",
      "11 is odd\n",
      "12 is even\n",
      "13 is odd\n",
      "14 is even\n",
      "15 is odd\n",
      "16 is even\n",
      "17 is odd\n",
      "18 is even\n",
      "19 is odd\n",
      "20 is even\n"
     ]
    }
   ],
   "source": [
    "print_number(20)"
   ]
  },
  {
   "cell_type": "markdown",
   "id": "d679659a",
   "metadata": {},
   "source": [
    "# 4. Write a function sum_of_integers(a, b) that takes two integers as input from the user and returns their sum."
   ]
  },
  {
   "cell_type": "code",
   "execution_count": 25,
   "id": "da6ca621",
   "metadata": {},
   "outputs": [],
   "source": [
    "def sum_of_integers(a,b):\n",
    "    sum = a +b\n",
    "    return sum\n",
    "    "
   ]
  },
  {
   "cell_type": "code",
   "execution_count": 26,
   "id": "121f48ca",
   "metadata": {},
   "outputs": [
    {
     "data": {
      "text/plain": [
       "6"
      ]
     },
     "execution_count": 26,
     "metadata": {},
     "output_type": "execute_result"
    }
   ],
   "source": [
    "sum_of_integers(2,4)"
   ]
  },
  {
   "cell_type": "code",
   "execution_count": null,
   "id": "86221be2",
   "metadata": {},
   "outputs": [],
   "source": []
  }
 ],
 "metadata": {
  "kernelspec": {
   "display_name": "Python 3 (ipykernel)",
   "language": "python",
   "name": "python3"
  },
  "language_info": {
   "codemirror_mode": {
    "name": "ipython",
    "version": 3
   },
   "file_extension": ".py",
   "mimetype": "text/x-python",
   "name": "python",
   "nbconvert_exporter": "python",
   "pygments_lexer": "ipython3",
   "version": "3.11.5"
  }
 },
 "nbformat": 4,
 "nbformat_minor": 5
}
