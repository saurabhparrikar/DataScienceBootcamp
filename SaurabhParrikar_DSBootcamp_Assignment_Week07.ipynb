{
 "cells": [
  {
   "cell_type": "markdown",
   "id": "4c5d1329",
   "metadata": {},
   "source": [
    "# 1. How do you control for biases?"
   ]
  },
  {
   "cell_type": "markdown",
   "id": "8e82314b",
   "metadata": {},
   "source": [
    "### To control for biases in hypothesis testing, you can use randomization, blinding, and ensuring the sample is representative of the population. \n",
    "\n",
    "### Randomization helps in assigning subjects to different groups randomly, reducing the likelihood of bias. Blinding involves keeping the subjects or experimenters unaware of the treatment or group assignment to prevent bias in measurements or assessments. Ensuring the sample is representative helps in generalizing the results to the population of interest."
   ]
  },
  {
   "cell_type": "markdown",
   "id": "e4f9b8a0",
   "metadata": {},
   "source": [
    "# 2. What are confounding variables?"
   ]
  },
  {
   "cell_type": "markdown",
   "id": "a887dc78",
   "metadata": {},
   "source": [
    "### Confounding variables are extraneous variables that affect the dependent variable and may lead to incorrect conclusions about the relationship between the independent and dependent variables.\n",
    "\n",
    "### They are often related to both the independent and dependent variables, making it difficult to determine the true effect of the independent variable on the dependent variable."
   ]
  },
  {
   "cell_type": "markdown",
   "id": "957f5e93",
   "metadata": {},
   "source": [
    "# 3. What is A/B testing?"
   ]
  },
  {
   "cell_type": "markdown",
   "id": "07478bd6",
   "metadata": {},
   "source": [
    "### A/B testing is a statistical method used to compare two versions of a product or service to determine which one performs better. It is commonly used in marketing and product development to test changes to websites, apps, or other digital assets. \n",
    "\n",
    "### The two versions, A and B, are shown to different groups of users, and their responses are compared to determine which version is more effective based on predefined metrics."
   ]
  },
  {
   "cell_type": "markdown",
   "id": "ad1a654e",
   "metadata": {},
   "source": [
    "# 4. When will you use Welch t-test?"
   ]
  },
  {
   "cell_type": "markdown",
   "id": "5b7f919f",
   "metadata": {},
   "source": [
    "### The Welch t-test is used when comparing the means of two independent samples and the assumption of equal variances is violated. It is a modification of the independent samples t-test that provides more accurate results when the variances of the two samples are not equal."
   ]
  },
  {
   "cell_type": "markdown",
   "id": "fbd2a844",
   "metadata": {},
   "source": [
    "# 5. A company claims that the average time its customer service representatives spend on the phone per call is 6 minutes. You believe that the average time is actually higher. You collect a random sample of 50 calls and find that the average time spent on the phone per call in your sample is 6.5 minutes, with a standard deviation of 1.2 minutes. Test whether there is sufficient evidence to support your claim at a significance level of 0.05."
   ]
  },
  {
   "attachments": {},
   "cell_type": "markdown",
   "id": "f7b0212a",
   "metadata": {},
   "source": [
    "### Null hypothesis (H0): The average time customer service representatives spend on the phone per call is 6 minutes.\n",
    "    \n",
    "### Alternative hypothesis (H1): The average time customer service representatives spend on the phone per call is higher than 6 minutes.\n",
    "    \n",
    "### Calculate the test statistic:\n",
    "\n",
    "### t = (𝑥ˉ- μ / (s/sq.rt(𝑛)))\n",
    "\n",
    "#### here 𝑥ˉ is the sample mean, μ is the population mean (6 minutes), s is the sample standard deviation (1.2 minutes), and 𝑛 is the sample size (50 calls). hence t = 2.946\n",
    "\n",
    "### The Degrees of Freedom df = n -1 = 50-1 = 49\n",
    "\n",
    "### The critical value for a one-tailed test at a significance level of 0.05 is 1.645\n",
    "\n",
    "### Since the test statistic (2.945) is greater than the critical value (1.645), we can reject the null hypothesis. This means that there is sufficient evidence to support the claim that the average time customer service representatives spend on the phone per call is higher than 6 minutes. The difference of 0.5 minutes between the sample mean and the claimed population mean is statistically significant at the 0.05 level."
   ]
  },
  {
   "cell_type": "markdown",
   "id": "12149ac4",
   "metadata": {},
   "source": [
    "# 6. A researcher wants to determine whether there is a difference in the mean scores of two groups of students on a math test. Group A consists of 25 students who received traditional teaching methods, while Group B consists of 30 students who received a new teaching method. The average score for Group A is 75, with a standard deviation of 8, and the average score for Group B is 78, with a standard deviation of 7. Test whether there is a significant difference in the mean scores of the two groups at a significance level of 0.05."
   ]
  },
  {
   "attachments": {
    "image-2.png": {
     "image/png": "[encoded data removed]"
    },
    "image.png": {
     "image/png": "[encoded data removed]"
    }
   },
   "cell_type": "markdown",
   "id": "485867ea",
   "metadata": {},
   "source": [
    "### Null hypothesis (H0): There is no significant difference in the mean scores of the two groups.\n",
    "\n",
    "### Alternative hypothesis (H1): There is a significant difference in the mean scores of the two groups.\n",
    "\n",
    "### Calculate the test statistic for independent samples:\n",
    "![image.png](attachment:image.png)\n",
    "\n",
    "#### where x1 and x2 are the sample means, s1 and s2 are the sample standard deviations, and n1 and n2 are the sample sizes for Group A and Group B respectively, hence t = -1.464\n",
    "\n",
    "### Degrees of Freedom\n",
    "![image-2.png](attachment:image-2.png)\n",
    "\n",
    "### Critical value for a two-tailed testfor 0.05 significance level = +- 1.96\n",
    "\n",
    "### Since the absolute value of the test statistic (1.464) is less than the critical value (1.96), we fail to reject the null hypothesis. This means that there is not enough evidence to conclude that there is a significant difference in the mean scores of the two groups of students. The difference of 3 points between the sample means is not statistically significant at the 0.05 level.\n",
    "\n",
    "\n",
    "\n",
    "\n",
    "\n"
   ]
  },
  {
   "cell_type": "code",
   "execution_count": null,
   "id": "0692bda5",
   "metadata": {},
   "outputs": [],
   "source": []
  }
 ],
 "metadata": {
  "kernelspec": {
   "display_name": "Python 3 (ipykernel)",
   "language": "python",
   "name": "python3"
  },
  "language_info": {
   "codemirror_mode": {
    "name": "ipython",
    "version": 3
   },
   "file_extension": ".py",
   "mimetype": "text/x-python",
   "name": "python",
   "nbconvert_exporter": "python",
   "pygments_lexer": "ipython3",
   "version": "3.11.5"
  }
 },
 "nbformat": 4,
 "nbformat_minor": 5
}
